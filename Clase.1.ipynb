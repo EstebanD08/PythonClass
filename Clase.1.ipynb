{
 "cells": [
  {
   "cell_type": "markdown",
   "id": "1eee3fdb",
   "metadata": {},
   "source": [
    "# Clase 1"
   ]
  },
  {
   "cell_type": "markdown",
   "id": "5deaf8cd",
   "metadata": {},
   "source": [
    "Esta clase es para aprender las bases de python"
   ]
  },
  {
   "cell_type": "code",
   "execution_count": null,
   "id": "505ede07",
   "metadata": {},
   "outputs": [],
   "source": [
    "A = 40\n",
    "B = 10\n",
    "# Comparación \n",
    "if(A>B)\n",
    "    print(\"Es mayor\", A)\n",
    "else:\n",
    "    print(\"Es mayor\", B)"
   ]
  },
  {
   "cell_type": "markdown",
   "id": "cf5f92f3",
   "metadata": {},
   "source": [
    "# Clase 2"
   ]
  },
  {
   "cell_type": "markdown",
   "id": "095385f4",
   "metadata": {},
   "source": [
    "# Clase 3"
   ]
  },
  {
   "cell_type": "code",
   "execution_count": null,
   "id": "575ecc39",
   "metadata": {},
   "outputs": [],
   "source": [
    "A = 5 # Int\n",
    "a = \"cinco\" # Str\n",
    "b = True # bool\n",
    "c = 17,3 # double, float\n",
    "\n",
    "# Tupla\n",
    "B = (2,3,7) # Inmutable No cambian\n",
    "\n",
    "# Lista\n",
    "D = [\"Juan\", \"Carlos\"] # Es modificable\n",
    "\n",
    "# Diccionario\n",
    "E = {SP : 7}\n"
   ]
  },
  {
   "cell_type": "code",
   "execution_count": 5,
   "id": "7dab73d1",
   "metadata": {},
   "outputs": [
    {
     "name": "stdout",
     "output_type": "stream",
     "text": [
      "La variable es:  <class 'int'>\n"
     ]
    }
   ],
   "source": [
    "print(\"La variable es: \", type(34))"
   ]
  },
  {
   "cell_type": "code",
   "execution_count": 7,
   "id": "d7094161",
   "metadata": {},
   "outputs": [
    {
     "name": "stdout",
     "output_type": "stream",
     "text": [
      "La variable es:  <class 'float'>\n"
     ]
    }
   ],
   "source": [
    "print(\"La variable es: \", type(7.15))"
   ]
  },
  {
   "cell_type": "code",
   "execution_count": 8,
   "id": "d61970b9",
   "metadata": {},
   "outputs": [
    {
     "name": "stdout",
     "output_type": "stream",
     "text": [
      "La variable es:  <class 'str'>\n"
     ]
    }
   ],
   "source": [
    "print(\"La variable es: \", type(\"sapo\"))"
   ]
  },
  {
   "cell_type": "code",
   "execution_count": 9,
   "id": "640255ae",
   "metadata": {},
   "outputs": [
    {
     "name": "stdout",
     "output_type": "stream",
     "text": [
      "La variable es:  <class 'bool'>\n"
     ]
    }
   ],
   "source": [
    "print(\"La variable es: \", type(True))"
   ]
  },
  {
   "cell_type": "markdown",
   "id": "d864ec03",
   "metadata": {},
   "source": [
    "# Variables que almacenan multiples datos"
   ]
  },
  {
   "cell_type": "code",
   "execution_count": 10,
   "id": "eb95a92f",
   "metadata": {},
   "outputs": [
    {
     "name": "stdout",
     "output_type": "stream",
     "text": [
      "La variable es tipo:  <class 'tuple'>\n"
     ]
    }
   ],
   "source": [
    "# Declaracion o creacion de una Tupla\n",
    "No_modificable = (1, 2, 3, 4)\n",
    "# Mostrar el tipo de la variable\n",
    "print(\"La variable es tipo: \", type(No_modificable))"
   ]
  },
  {
   "cell_type": "code",
   "execution_count": 11,
   "id": "262d90df",
   "metadata": {},
   "outputs": [
    {
     "name": "stdout",
     "output_type": "stream",
     "text": [
      "La variable es de tipo:  <class 'list'>\n"
     ]
    }
   ],
   "source": [
    "# Creacion de una lista\n",
    "Nom_Comp = [\"Juan\", \"Esteban\", \"Duran\", \"Perez\"]\n",
    "# Mostrar el tipo de variable\n",
    "print(\"La variable es de tipo: \", type(Nom_Comp))"
   ]
  },
  {
   "cell_type": "code",
   "execution_count": 15,
   "id": "4b06a2bc",
   "metadata": {},
   "outputs": [
    {
     "name": "stdout",
     "output_type": "stream",
     "text": [
      "La variable es de tipo:  <class 'dict'>\n"
     ]
    }
   ],
   "source": [
    "Dictionary = { \"Juan\" : 8,\n",
    "              \"Esteban\" : 7,\n",
    "              \"Duran\" : 6,\n",
    "              \"Perez\" : 5,\n",
    "              \"Enero\" : 4,\n",
    "              \"Ocho\" : 3,\n",
    "              \"Dosmilcinco\" : 2,\n",
    "              \"Cedula\" : 1}\n",
    "print(\"La variable es de tipo: \", type(Dictionary))"
   ]
  },
  {
   "cell_type": "code",
   "execution_count": 23,
   "id": "3f4b66c8",
   "metadata": {},
   "outputs": [
    {
     "name": "stdout",
     "output_type": "stream",
     "text": [
      "La variable es de tipo:  <class 'pandas.core.frame.DataFrame'>\n",
      "  Nombre  Edades     Ciudad  Altura          ID     Dep.Fav    Profesion\n",
      "0   Juan      20     Madrid    1.85  1029640817  Baloncesto  Programador\n",
      "1  Maria      30  Barcelona    1.65  1054427896    Voleibol   Economista\n",
      "2   Luis      40   Valencia    1.70  1020860249      Futbol      Albañil\n"
     ]
    }
   ],
   "source": [
    "# Importar librerias pandas\n",
    "import pandas as pd\n",
    "\n",
    "datos = {\n",
    "    \"Nombre\":[\"Juan\", \"Maria\", \"Luis\"],\n",
    "    \"Edades\":[20, 30, 40],\n",
    "    \"Ciudad\":[\"Madrid\", \"Barcelona\", \"Valencia\"],\n",
    "    \"Altura\":[1.85, 1.65, 1.70],\n",
    "    \"ID\":[1029640817, 1054427896, 1020860249],\n",
    "    \"Dep.Fav\":[\"Baloncesto\", \"Voleibol\", \"Futbol\"],\n",
    "    \"Profesion\":[\"Programador\", \"Economista\", \"Albañil\"]\n",
    "}\n",
    "\n",
    "# Crear un dataframe\n",
    "Tabla = pd.DataFrame(datos)\n",
    "# Mostrar el tipo de la variable\n",
    "print(\"La variable es de tipo: \", type(Tabla))\n",
    "print(Tabla)"
   ]
  }
 ],
 "metadata": {
  "kernelspec": {
   "display_name": "Python 3",
   "language": "python",
   "name": "python3"
  },
  "language_info": {
   "codemirror_mode": {
    "name": "ipython",
    "version": 3
   },
   "file_extension": ".py",
   "mimetype": "text/x-python",
   "name": "python",
   "nbconvert_exporter": "python",
   "pygments_lexer": "ipython3",
   "version": "3.13.0"
  }
 },
 "nbformat": 4,
 "nbformat_minor": 5
}
